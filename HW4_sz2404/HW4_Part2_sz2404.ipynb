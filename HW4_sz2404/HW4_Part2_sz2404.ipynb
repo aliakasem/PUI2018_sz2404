{
 "cells": [
  {
   "cell_type": "markdown",
   "metadata": {},
   "source": [
    "# HW4_Part 2_Citi Bikes"
   ]
  },
  {
   "cell_type": "code",
   "execution_count": 3,
   "metadata": {},
   "outputs": [
    {
     "name": "stdout",
     "output_type": "stream",
     "text": [
      "Populating the interactive namespace from numpy and matplotlib\n"
     ]
    }
   ],
   "source": [
    "# Stating all the packages here\n",
    "from __future__  import print_function, division\n",
    "import matplotlib.pylab as pl\n",
    "import pandas as pd\n",
    "import numpy as np\n",
    "import os\n",
    "\n",
    "%pylab inline\n",
    "\n",
    "if os.getenv ('PUIDATA') is None:\n",
    "    print (\"Must set env variable PUIDATA\")\n",
    "\n",
    "\n",
    "import os\n",
    "import json\n",
    "#s = json.load( open(os.getenv('PUI2016') + \"/fbb_matplotlibrc.json\") )\n",
    "#pl.rcParams.update(s)"
   ]
  },
  {
   "cell_type": "markdown",
   "metadata": {},
   "source": [
    "## Statements\n",
    "In summer, there tends to be more tourists in New York City. Especially, during the weekend, with less traffic we can expect more short-term riders (i.e. 24-your or 3-day pass; recorded as customer in usertype). In this assignment, I would use the month August representing summer.  Therefore, I am expecting a higher porportion of customer riders during the weekend in August than weekdays. The studying year is 2017.\n",
    "\n",
    "Another reason I chose August is because, August does not have a long weekend and therefore, the weekday versus weekend comparison can be relatively more clearer. \n",
    "\n",
    "### Null Hypothesis\n",
    "\n",
    "In 2017 August, The proportion of short-term users during the weekend are not significantly higher than the proportion of short-term users during weekdays. \n",
    "\n",
    "### Alternative Hypothesis\n",
    "\n",
    "In 2017 August, The proportion of short-term users during the weekend are higher than the proportion of short-term users during weekdays. \n",
    "\n",
    "# _$H_0$_ : $\\frac{R_{\\mathrm{cus-Weekend}}}{R_{\\mathrm{total-Weekend}}} <= \\frac{R_{\\mathrm{cus-Weekday}}}{R_{\\mathrm{total-Weekday}}}$\n",
    "# _$H_1$_ : $\\frac{R_{\\mathrm{cus-Weekend}}}{R_{\\mathrm{total-Weekend}}} > \\frac{R_{\\mathrm{cus-Weekday}}}{R_{\\mathrm{total-Weekday}}}$\n",
    "\n",
    "or identically:\n",
    "\n",
    "# _$H_0$_ : $\\frac{R_{\\mathrm{cus-Weekend}}}{R_{\\mathrm{total-Weekend}}} - \\frac{R_{\\mathrm{cus-Weekday}}}{R_{\\mathrm{total-Weekday}}} <= 0 $\n",
    "# _$H_1$_ : $\\frac{R_{\\mathrm{cus-Weekend}}}{R_{\\mathrm{total-Weekend}}} - \\frac{R_{\\mathrm{cus-Weekday}}}{R_{\\mathrm{total-Weekday}}} > 0$\n",
    "## The significance level chosen is  $\\alpha=0.05$\n",
    "\n",
    "#### which means i want the probability of getting a result at least as significant as mine to be less then 5%\n"
   ]
  },
  {
   "cell_type": "code",
   "execution_count": 4,
   "metadata": {},
   "outputs": [],
   "source": [
    "import pandas as pd\n",
    "import numpy as py\n",
    "import os\n",
    "import sys\n",
    "import zipfile"
   ]
  },
  {
   "cell_type": "markdown",
   "metadata": {},
   "source": [
    "## Environmental Prep"
   ]
  },
  {
   "cell_type": "code",
   "execution_count": 5,
   "metadata": {},
   "outputs": [],
   "source": [
    "puidata = os.getenv(\"PUIDATA\")\n",
    "if puidata is None:\n",
    "    os.environ[\"PUIDATA\"] = \"%s/PUIdata\"%os.getenv(\"HOME\")"
   ]
  },
  {
   "cell_type": "code",
   "execution_count": 6,
   "metadata": {},
   "outputs": [],
   "source": [
    "#!curl https://s3.amazonaws.com/tripdata/201701-citibike-tripdata.csv.zip > Jan2017citibike.csv.zip\n",
    "#!curl https://s3.amazonaws.com/tripdata/201708-citibike-tripdata.csv.zip > Aug2017citibike.csv.zip"
   ]
  },
  {
   "cell_type": "code",
   "execution_count": 7,
   "metadata": {},
   "outputs": [],
   "source": [
    "#2017Augbike = Aug2017citibike.csv.zip.ZipFile(os.getenv(\"PUIDATA\"), 'r')\n",
    "#2017Augbike.extractall(os.getenv(\"PUIDATA\"))\n",
    "#2017Augbike.close()\n",
    "def getCitiBikeCSV(datestring):\n",
    "    print (\"Downloading\", datestring)\n",
    "    ### First I will heck that it is not already there\n",
    "    if not os.path.isfile(os.getenv(\"PUIDATA\") + \"/\" + datestring + \"-citibike-tripdata.csv\"):\n",
    "        if os.path.isfile(datestring + \"-citibike-tripdata.csv\"):\n",
    "            # if in the current dir just move it\n",
    "            if os.system(\"mv \" + datestring + \"-citibike-tripdata.csv \" + os.getenv(\"PUIDATA\")):\n",
    "                print (\"Error moving file!, Please check!\")\n",
    "        #otherwise start looking for the zip file\n",
    "        else:\n",
    "            if not os.path.isfile(os.getenv(\"PUIDATA\") + \"/\" + datestring + \"-citibike-tripdata.zip\"):\n",
    "                if not os.path.isfile(datestring + \"-citibike-tripdata.zip\"):\n",
    "                    os.system(\"curl -O https://s3.amazonaws.com/tripdata/\" + datestring + \"-citibike-tripdata.zip\")\n",
    "                ###  To move it I use the os.system() functions to run bash commands with arguments\n",
    "                os.system(\"mv \" + datestring + \"-citibike-tripdata.zip \" + os.getenv(\"PUIDATA\"))\n",
    "            ### unzip the csv \n",
    "            os.system(\"unzip \" + os.getenv(\"PUIDATA\") + \"/\" + datestring + \"-citibike-tripdata.zip\")\n",
    "            ## NOTE: old csv citibike data had a different name structure. \n",
    "            if '2014' in datestring:\n",
    "                os.system(\"mv \" + datestring[:4] + '-' +  datestring[4:] + \n",
    "                          \"\\ -\\ Citi\\ Bike\\ trip\\ data.csv \" + datestring + \"-citibike-tripdata.csv\")\n",
    "            os.system(\"mv \" + datestring + \"-citibike-tripdata.csv \" + os.getenv(\"PUIDATA\"))\n",
    "    ### One final check:\n",
    "    if not os.path.isfile(os.getenv(\"PUIDATA\") + \"/\" + datestring + \"-citibike-tripdata.csv\"):\n",
    "        print (\"WARNING!!! something is wrong: the file is not there!\")\n",
    "\n",
    "    else:\n",
    "        print (\"file in place, you can continue\")\n"
   ]
  },
  {
   "cell_type": "code",
   "execution_count": 8,
   "metadata": {},
   "outputs": [
    {
     "name": "stdout",
     "output_type": "stream",
     "text": [
      "Downloading 201708\n",
      "file in place, you can continue\n"
     ]
    }
   ],
   "source": [
    "datestring = '201708'\n",
    "getCitiBikeCSV(datestring)"
   ]
  },
  {
   "cell_type": "code",
   "execution_count": 9,
   "metadata": {},
   "outputs": [
    {
     "name": "stdout",
     "output_type": "stream",
     "text": [
      "201501-citibike-tripdata.csv  DCAS_Managed_Building_Fuel_Usage.csv\r\n",
      "201501-citibike-tripdata.zip  DSNY_Monthly_Tonnage_Data.csv\r\n",
      "201701-citibike-tripdata.csv  gittest_lavz\r\n",
      "201702-citibike-tripdata.zip  Jan2017citibike.csv.zip\r\n",
      "201708-citibike-tripdata.csv  tonnage.csv\r\n",
      "Aug2017citibike.csv.zip       Treasure^C\r\n",
      "Bus Data.csv\r\n"
     ]
    }
   ],
   "source": [
    "!ls $PUIDATA"
   ]
  },
  {
   "cell_type": "markdown",
   "metadata": {},
   "source": [
    "# CitiBike Data Wangling"
   ]
  },
  {
   "cell_type": "code",
   "execution_count": 10,
   "metadata": {},
   "outputs": [],
   "source": [
    "#Jan2017=pd.read_csv(\"%s/201701-citibike-tripdata.csv\"%os.getenv(\"PUIDATA\"))\n",
    "Aug2017 = pd.read_csv(os.getenv(\"PUIDATA\") + \"/\" + datestring + '-citibike-tripdata.csv')"
   ]
  },
  {
   "cell_type": "code",
   "execution_count": 11,
   "metadata": {},
   "outputs": [
    {
     "data": {
      "text/html": [
       "<div>\n",
       "<table border=\"1\" class=\"dataframe\">\n",
       "  <thead>\n",
       "    <tr style=\"text-align: right;\">\n",
       "      <th></th>\n",
       "      <th>tripduration</th>\n",
       "      <th>starttime</th>\n",
       "      <th>stoptime</th>\n",
       "      <th>start station id</th>\n",
       "      <th>start station name</th>\n",
       "      <th>start station latitude</th>\n",
       "      <th>start station longitude</th>\n",
       "      <th>end station id</th>\n",
       "      <th>end station name</th>\n",
       "      <th>end station latitude</th>\n",
       "      <th>end station longitude</th>\n",
       "      <th>bikeid</th>\n",
       "      <th>usertype</th>\n",
       "      <th>birth year</th>\n",
       "      <th>gender</th>\n",
       "    </tr>\n",
       "  </thead>\n",
       "  <tbody>\n",
       "    <tr>\n",
       "      <th>0</th>\n",
       "      <td>2110</td>\n",
       "      <td>2017-08-01 00:00:00</td>\n",
       "      <td>2017-08-01 00:35:11</td>\n",
       "      <td>470</td>\n",
       "      <td>W 20 St &amp; 8 Ave</td>\n",
       "      <td>40.743453</td>\n",
       "      <td>-74.000040</td>\n",
       "      <td>3289</td>\n",
       "      <td>W 90 St &amp; Amsterdam Ave</td>\n",
       "      <td>40.790179</td>\n",
       "      <td>-73.972889</td>\n",
       "      <td>20954</td>\n",
       "      <td>Subscriber</td>\n",
       "      <td>1978.0</td>\n",
       "      <td>2</td>\n",
       "    </tr>\n",
       "    <tr>\n",
       "      <th>1</th>\n",
       "      <td>160</td>\n",
       "      <td>2017-08-01 00:00:10</td>\n",
       "      <td>2017-08-01 00:02:51</td>\n",
       "      <td>348</td>\n",
       "      <td>W Broadway &amp; Spring St</td>\n",
       "      <td>40.724910</td>\n",
       "      <td>-74.001547</td>\n",
       "      <td>151</td>\n",
       "      <td>Cleveland Pl &amp; Spring St</td>\n",
       "      <td>40.722104</td>\n",
       "      <td>-73.997249</td>\n",
       "      <td>15164</td>\n",
       "      <td>Subscriber</td>\n",
       "      <td>1978.0</td>\n",
       "      <td>1</td>\n",
       "    </tr>\n",
       "    <tr>\n",
       "      <th>2</th>\n",
       "      <td>1644</td>\n",
       "      <td>2017-08-01 00:00:17</td>\n",
       "      <td>2017-08-01 00:27:41</td>\n",
       "      <td>3165</td>\n",
       "      <td>Central Park West &amp; W 72 St</td>\n",
       "      <td>40.775794</td>\n",
       "      <td>-73.976206</td>\n",
       "      <td>3320</td>\n",
       "      <td>Central Park West &amp; W 100 St</td>\n",
       "      <td>40.793393</td>\n",
       "      <td>-73.963556</td>\n",
       "      <td>17540</td>\n",
       "      <td>Subscriber</td>\n",
       "      <td>1962.0</td>\n",
       "      <td>2</td>\n",
       "    </tr>\n",
       "    <tr>\n",
       "      <th>3</th>\n",
       "      <td>323</td>\n",
       "      <td>2017-08-01 00:00:27</td>\n",
       "      <td>2017-08-01 00:05:51</td>\n",
       "      <td>389</td>\n",
       "      <td>Broadway &amp; Berry St</td>\n",
       "      <td>40.710446</td>\n",
       "      <td>-73.965251</td>\n",
       "      <td>3073</td>\n",
       "      <td>Division Ave &amp; Hooper St</td>\n",
       "      <td>40.706913</td>\n",
       "      <td>-73.954417</td>\n",
       "      <td>18705</td>\n",
       "      <td>Subscriber</td>\n",
       "      <td>1990.0</td>\n",
       "      <td>1</td>\n",
       "    </tr>\n",
       "    <tr>\n",
       "      <th>4</th>\n",
       "      <td>109</td>\n",
       "      <td>2017-08-01 00:00:41</td>\n",
       "      <td>2017-08-01 00:02:31</td>\n",
       "      <td>3145</td>\n",
       "      <td>E 84 St &amp; Park Ave</td>\n",
       "      <td>40.778627</td>\n",
       "      <td>-73.957721</td>\n",
       "      <td>3147</td>\n",
       "      <td>E 85 St &amp; 3 Ave</td>\n",
       "      <td>40.778012</td>\n",
       "      <td>-73.954071</td>\n",
       "      <td>27975</td>\n",
       "      <td>Subscriber</td>\n",
       "      <td>1983.0</td>\n",
       "      <td>1</td>\n",
       "    </tr>\n",
       "  </tbody>\n",
       "</table>\n",
       "</div>"
      ],
      "text/plain": [
       "   tripduration            starttime             stoptime  start station id  \\\n",
       "0          2110  2017-08-01 00:00:00  2017-08-01 00:35:11               470   \n",
       "1           160  2017-08-01 00:00:10  2017-08-01 00:02:51               348   \n",
       "2          1644  2017-08-01 00:00:17  2017-08-01 00:27:41              3165   \n",
       "3           323  2017-08-01 00:00:27  2017-08-01 00:05:51               389   \n",
       "4           109  2017-08-01 00:00:41  2017-08-01 00:02:31              3145   \n",
       "\n",
       "            start station name  start station latitude  \\\n",
       "0              W 20 St & 8 Ave               40.743453   \n",
       "1       W Broadway & Spring St               40.724910   \n",
       "2  Central Park West & W 72 St               40.775794   \n",
       "3          Broadway & Berry St               40.710446   \n",
       "4           E 84 St & Park Ave               40.778627   \n",
       "\n",
       "   start station longitude  end station id              end station name  \\\n",
       "0               -74.000040            3289       W 90 St & Amsterdam Ave   \n",
       "1               -74.001547             151      Cleveland Pl & Spring St   \n",
       "2               -73.976206            3320  Central Park West & W 100 St   \n",
       "3               -73.965251            3073      Division Ave & Hooper St   \n",
       "4               -73.957721            3147               E 85 St & 3 Ave   \n",
       "\n",
       "   end station latitude  end station longitude  bikeid    usertype  \\\n",
       "0             40.790179             -73.972889   20954  Subscriber   \n",
       "1             40.722104             -73.997249   15164  Subscriber   \n",
       "2             40.793393             -73.963556   17540  Subscriber   \n",
       "3             40.706913             -73.954417   18705  Subscriber   \n",
       "4             40.778012             -73.954071   27975  Subscriber   \n",
       "\n",
       "   birth year  gender  \n",
       "0      1978.0       2  \n",
       "1      1978.0       1  \n",
       "2      1962.0       2  \n",
       "3      1990.0       1  \n",
       "4      1983.0       1  "
      ]
     },
     "execution_count": 11,
     "metadata": {},
     "output_type": "execute_result"
    }
   ],
   "source": [
    "Aug2017.head()"
   ]
  },
  {
   "cell_type": "code",
   "execution_count": 12,
   "metadata": {},
   "outputs": [
    {
     "data": {
      "text/plain": [
       "Index(['tripduration', 'starttime', 'stoptime', 'start station id',\n",
       "       'start station name', 'start station latitude',\n",
       "       'start station longitude', 'end station id', 'end station name',\n",
       "       'end station latitude', 'end station longitude', 'bikeid', 'usertype',\n",
       "       'birth year', 'gender'],\n",
       "      dtype='object')"
      ]
     },
     "execution_count": 12,
     "metadata": {},
     "output_type": "execute_result"
    }
   ],
   "source": [
    "Aug2017.columns"
   ]
  },
  {
   "cell_type": "code",
   "execution_count": 13,
   "metadata": {},
   "outputs": [],
   "source": [
    "Aug2017R=Aug2017.drop(['tripduration', 'stoptime', 'start station id',\n",
    "       'start station name', 'start station latitude',\n",
    "       'start station longitude', 'end station id', 'end station name',\n",
    "       'end station latitude', 'end station longitude', 'bikeid',\n",
    "       'birth year', 'gender'], axis=1)"
   ]
  },
  {
   "cell_type": "code",
   "execution_count": 14,
   "metadata": {},
   "outputs": [
    {
     "data": {
      "text/html": [
       "<div>\n",
       "<table border=\"1\" class=\"dataframe\">\n",
       "  <thead>\n",
       "    <tr style=\"text-align: right;\">\n",
       "      <th></th>\n",
       "      <th>starttime</th>\n",
       "      <th>usertype</th>\n",
       "    </tr>\n",
       "  </thead>\n",
       "  <tbody>\n",
       "    <tr>\n",
       "      <th>0</th>\n",
       "      <td>2017-08-01 00:00:00</td>\n",
       "      <td>Subscriber</td>\n",
       "    </tr>\n",
       "    <tr>\n",
       "      <th>1</th>\n",
       "      <td>2017-08-01 00:00:10</td>\n",
       "      <td>Subscriber</td>\n",
       "    </tr>\n",
       "    <tr>\n",
       "      <th>2</th>\n",
       "      <td>2017-08-01 00:00:17</td>\n",
       "      <td>Subscriber</td>\n",
       "    </tr>\n",
       "    <tr>\n",
       "      <th>3</th>\n",
       "      <td>2017-08-01 00:00:27</td>\n",
       "      <td>Subscriber</td>\n",
       "    </tr>\n",
       "    <tr>\n",
       "      <th>4</th>\n",
       "      <td>2017-08-01 00:00:41</td>\n",
       "      <td>Subscriber</td>\n",
       "    </tr>\n",
       "  </tbody>\n",
       "</table>\n",
       "</div>"
      ],
      "text/plain": [
       "             starttime    usertype\n",
       "0  2017-08-01 00:00:00  Subscriber\n",
       "1  2017-08-01 00:00:10  Subscriber\n",
       "2  2017-08-01 00:00:17  Subscriber\n",
       "3  2017-08-01 00:00:27  Subscriber\n",
       "4  2017-08-01 00:00:41  Subscriber"
      ]
     },
     "execution_count": 14,
     "metadata": {},
     "output_type": "execute_result"
    }
   ],
   "source": [
    "Aug2017R.head(5)"
   ]
  },
  {
   "cell_type": "code",
   "execution_count": 15,
   "metadata": {},
   "outputs": [
    {
     "data": {
      "text/plain": [
       "1816498"
      ]
     },
     "execution_count": 15,
     "metadata": {},
     "output_type": "execute_result"
    }
   ],
   "source": [
    "len(Aug2017R)"
   ]
  },
  {
   "cell_type": "markdown",
   "metadata": {},
   "source": [
    "## Obtaining the value in each Usertype group"
   ]
  },
  {
   "cell_type": "code",
   "execution_count": 16,
   "metadata": {},
   "outputs": [
    {
     "data": {
      "text/plain": [
       "array(['Subscriber', 'Customer'], dtype=object)"
      ]
     },
     "execution_count": 16,
     "metadata": {},
     "output_type": "execute_result"
    }
   ],
   "source": [
    "Aug2017R['usertype'].unique()"
   ]
  },
  {
   "cell_type": "code",
   "execution_count": 17,
   "metadata": {},
   "outputs": [
    {
     "name": "stdout",
     "output_type": "stream",
     "text": [
      "usertype\n",
      "Customer       226521\n",
      "Subscriber    1015130\n",
      "Name: starttime, dtype: int64\n"
     ]
    }
   ],
   "source": [
    "RiderN = Aug2017R.groupby('usertype')['starttime'].nunique()\n",
    "print (RiderN)"
   ]
  },
  {
   "cell_type": "markdown",
   "metadata": {},
   "source": [
    "## Obtaining the value groupped into each weekday"
   ]
  },
  {
   "cell_type": "code",
   "execution_count": 18,
   "metadata": {},
   "outputs": [
    {
     "name": "stdout",
     "output_type": "stream",
     "text": [
      "date\n",
      "0    206822\n",
      "1    280064\n",
      "2    322903\n",
      "3    330242\n",
      "4    220371\n",
      "5    232062\n",
      "6    224034\n",
      "Name: usertype, dtype: int64\n"
     ]
    }
   ],
   "source": [
    "# Count of total riders on each day\n",
    "Aug2017R['date'] = pd.to_datetime(Aug2017R['starttime'])\n",
    "RiderD = Aug2017R['usertype'].groupby(Aug2017R['date'].dt.weekday).count()\n",
    "print (RiderD)"
   ]
  },
  {
   "cell_type": "code",
   "execution_count": 19,
   "metadata": {},
   "outputs": [
    {
     "data": {
      "text/plain": [
       "date\n",
       "0    21186\n",
       "1    22830\n",
       "2    31360\n",
       "3    32780\n",
       "4    26377\n",
       "5    63552\n",
       "6    59974\n",
       "Name: date, dtype: int64"
      ]
     },
     "execution_count": 19,
     "metadata": {},
     "output_type": "execute_result"
    }
   ],
   "source": [
    "#Aug2017R['starttime']\n",
    "#Aug2017R['starttime'].dt.weekday\n",
    "# Count of customers (short-term riders) throughout the week\n",
    "\n",
    "C = Aug2017R['usertype'] =='Customer'\n",
    "Ci = Aug2017R['date'][C]\n",
    "CN = Ci.groupby([Aug2017R['date'].dt.weekday]).count()\n",
    "CN"
   ]
  },
  {
   "cell_type": "code",
   "execution_count": 20,
   "metadata": {},
   "outputs": [
    {
     "name": "stdout",
     "output_type": "stream",
     "text": [
      "date\n",
      "0    185636\n",
      "1    257234\n",
      "2    291543\n",
      "3    297462\n",
      "4    193994\n",
      "5    168510\n",
      "6    164060\n",
      "Name: date, dtype: int64\n"
     ]
    }
   ],
   "source": [
    "# Count of subscribers throughout the week\n",
    "S = Aug2017R['usertype'] =='Subscriber'\n",
    "Si = Aug2017R['date'][S]\n",
    "SN = Si.groupby([Aug2017R['date'].dt.weekday]).count()\n",
    "print(SN)"
   ]
  },
  {
   "cell_type": "markdown",
   "metadata": {},
   "source": [
    "## Plotting the Absolute Counts on each Weekday"
   ]
  },
  {
   "cell_type": "code",
   "execution_count": 21,
   "metadata": {},
   "outputs": [
    {
     "data": {
      "text/plain": [
       "<matplotlib.legend.Legend at 0x7f607d7c8208>"
      ]
     },
     "execution_count": 21,
     "metadata": {},
     "output_type": "execute_result"
    },
    {
     "data": {
      "image/png": "[encoded data removed]",
      "text/plain": [
       "<matplotlib.figure.Figure at 0x7f607b56af28>"
      ]
     },
     "metadata": {},
     "output_type": "display_data"
    }
   ],
   "source": [
    "# Plot the porportation Customer vs Subscriber on different days (from Monday to Sunday)\n",
    "# Colour Dictionary: https://en.wikipedia.org/wiki/Web_colors\n",
    "# Plot dictionary: https://pandas.pydata.org/pandas-docs/stable/generated/pandas.DataFrame.plot.html\n",
    "plotbiker = pl.figure(figsize=(10,10))\n",
    "\n",
    "set1 = CN.plot(kind='bar', color='#FFC0CB', label='Short-term Riders')\n",
    "set2 = SN.plot(kind='bar', color='#87CEEB', label='Subscribed Riders', alpha=0.3)\n",
    "set1.xaxis.set_ticklabels(['Mon', 'Tue', 'Wed', 'Thu', 'Fri', 'Sat', 'Sun'], fontsize=16)\n",
    "#set2.xaxis.set_ticklabels(['Mon', 'Tue', 'Wed', 'Thu', 'Fri', 'Sat', 'Sun'], fontsize=16)\n",
    "set1.set_xlabel('\\n Weekdays', fontsize=20)\n",
    "set1.set_ylabel('Count \\n', fontsize=20)\n",
    "set1.set_title('Count of Short-term versus Subscribed Riders \\n', fontsize = 20)\n",
    "pl.legend(fontsize=12)"
   ]
  },
  {
   "cell_type": "markdown",
   "metadata": {},
   "source": [
    "## Figure 1a: \n",
    "The plot shows the absolute count for short-term riders (customers) throughout the week. In contrast, subscibers counts are also demonstrated. We can see the counts goes up during the weekends for short-term riders comparing to subscribers' count going down during weekends. In general we can see that there are way more subscribers using Citibikes than short-term riders which can be due to, many short-term riders are considered tourists and they are possibly not very familiar with the road condition in NYC so prefer to take public transit. "
   ]
  },
  {
   "cell_type": "markdown",
   "metadata": {},
   "source": [
    "## Normalize the counts by Total Riders"
   ]
  },
  {
   "cell_type": "code",
   "execution_count": 22,
   "metadata": {},
   "outputs": [
    {
     "data": {
      "text/plain": [
       "<matplotlib.legend.Legend at 0x7f607b33a518>"
      ]
     },
     "execution_count": 22,
     "metadata": {},
     "output_type": "execute_result"
    },
    {
     "data": {
      "image/png": "[encoded data removed]",
      "text/plain": [
       "<matplotlib.figure.Figure at 0x7f607b345b00>"
      ]
     },
     "metadata": {},
     "output_type": "display_data"
    }
   ],
   "source": [
    "# Normalize the customer of each day count by total riders of each day\n",
    "# Plot the porportation Customer vs Subscriber on different days (from Monday to Sunday)\n",
    "\n",
    "plotbikerNT = pl.figure(figsize=(10,10))\n",
    "\n",
    "# Set up the formula for usertype count normalized by all the riders on each day\n",
    "RatioNC = CN/RiderD\n",
    "RatioNS = SN/RiderD\n",
    "\n",
    "# Plotting\n",
    "setNT1 = RatioNC.plot(kind='bar', color='#FFC0CB', label='Short-term Riders')\n",
    "setNT2 = RatioNS.plot(kind='bar', color='#87CEEB', label='Subscribed Riders', alpha=0.3)\n",
    "setNT1.xaxis.set_ticklabels(['Mon', 'Tue', 'Wed', 'Thu', 'Fri', 'Sat', 'Sun'], fontsize=16)\n",
    "setNT2.xaxis.set_ticklabels(['Mon', 'Tue', 'Wed', 'Thu', 'Fri', 'Sat', 'Sun'], fontsize=16)\n",
    "setNT1.set_xlabel('\\n Weekdays', fontsize=20)\n",
    "setNT2.set_ylabel('Normalized Count \\n', fontsize=20)\n",
    "setNT1.set_title('Normalized Count of Short-term versus Subscribed Riders \\n', fontsize = 20)\n",
    "pl.legend(fontsize=12)"
   ]
  },
  {
   "cell_type": "markdown",
   "metadata": {},
   "source": [
    "## Figure 1b: \n",
    "The plot shows the normalized count for short-term riders (customers) throughout the week. In contrast, subscibers normalized counts are also demonstrated. We can see the normalized counts goes up during the weekends for short-term riders, comparing to subscribers' normalized count decreased over the weekends. "
   ]
  },
  {
   "cell_type": "markdown",
   "metadata": {},
   "source": [
    "## Normalize the counts by standard errors\n"
   ]
  },
  {
   "cell_type": "code",
   "execution_count": 32,
   "metadata": {},
   "outputs": [
    {
     "data": {
      "text/plain": [
       "<matplotlib.legend.Legend at 0x7f607b245be0>"
      ]
     },
     "execution_count": 32,
     "metadata": {},
     "output_type": "execute_result"
    },
    {
     "data": {
      "image/png": "[encoded data removed]",
      "text/plain": [
       "<matplotlib.figure.Figure at 0x7f607b27ab70>"
      ]
     },
     "metadata": {},
     "output_type": "display_data"
    }
   ],
   "source": [
    "# Normalize the customer count by total riders\n",
    "# Plot the porportation Customer vs Subscriber on different days (from Monday to Sunday)\n",
    "\n",
    "plotbikerSE = pl.figure(figsize=(10,10))\n",
    "\n",
    "# Set up the formula for usertype standard error all the riders on each day\n",
    "SE=np.sqrt(RiderD)\n",
    "SENC = CN/SE\n",
    "SENS = SN/SE\n",
    "\n",
    "# Plotting\n",
    "setNT1 = CN.plot(kind='bar', yerr =[SENC, SENC], color='#FFC0CB', label='Short-term Riders')\n",
    "setNT2 = SN.plot(kind='bar', yerr =[SENS, SENS], color='#87CEEB', label='Subscribed Riders', alpha=0.3)\n",
    "setNT1.xaxis.set_ticklabels(['Mon', 'Tue', 'Wed', 'Thu', 'Fri', 'Sat', 'Sun'], fontsize=16)\n",
    "setNT2.xaxis.set_ticklabels(['Mon', 'Tue', 'Wed', 'Thu', 'Fri', 'Sat', 'Sun'], fontsize=16)\n",
    "setNT1.set_xlabel('\\n Weekdays', fontsize=20)\n",
    "setNT2.set_ylabel('Count with Standard Erros\\n', fontsize=20)\n",
    "setNT1.set_title('Count of Short-term versus Subscribed Riders with Standard Errors \\n', fontsize = 20)\n",
    "pl.legend(fontsize=12)"
   ]
  },
  {
   "cell_type": "markdown",
   "metadata": {},
   "source": [
    "## Figure 1c: \n",
    "This figure shows the counts applied with standard errors. "
   ]
  },
  {
   "cell_type": "code",
   "execution_count": null,
   "metadata": {},
   "outputs": [],
   "source": []
  }
 ],
 "metadata": {
  "kernelspec": {
   "display_name": "PUI2016_Python3",
   "language": "python",
   "name": "pui2016_python3"
  },
  "language_info": {
   "codemirror_mode": {
    "name": "ipython",
    "version": 3
   },
   "file_extension": ".py",
   "mimetype": "text/x-python",
   "name": "python",
   "nbconvert_exporter": "python",
   "pygments_lexer": "ipython3",
   "version": "3.5.4"
  }
 },
 "nbformat": 4,
 "nbformat_minor": 2
}
