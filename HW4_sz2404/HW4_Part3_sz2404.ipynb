{
 "cells": [
  {
   "cell_type": "markdown",
   "metadata": {},
   "source": [
    "# Z score testing"
   ]
  },
  {
   "cell_type": "code",
   "execution_count": 44,
   "metadata": {},
   "outputs": [],
   "source": [
    "import pandas as pd\n",
    "import numpy as np\n",
    "import os\n",
    "import sys\n",
    "import csv"
   ]
  },
  {
   "cell_type": "markdown",
   "metadata": {},
   "source": [
    "## Hypothesis Statement\n",
    "#### Null Hypothesis:\n",
    "The average commute time of the new bus is not significantly shorter than or equal to the existing X8 bus. \n",
    "\n",
    "# _$H_0$_ : $T_{\\mathrm{new}} <= T_{\\mathrm{old}} $\n",
    "# _$H_1$_ : $T_{\\mathrm{new}} > T_{\\mathrm{old}} $\n",
    "I set the significance level as: $\\alpha=0.05$\n"
   ]
  },
  {
   "cell_type": "code",
   "execution_count": 45,
   "metadata": {},
   "outputs": [],
   "source": [
    "url = \"https://raw.githubusercontent.com/fedhere/PUI2018_fb55/master/Lab4_fb55/times.txt\""
   ]
  },
  {
   "cell_type": "code",
   "execution_count": 46,
   "metadata": {},
   "outputs": [],
   "source": [
    "# Read txt as csv:\n",
    "    #Reference link: https://stackoverflow.com/questions/21546739/load-data-from-txt-with-pandas\n",
    "    #Pandas.read_csv properties: https://pandas.pydata.org/pandas-docs/stable/generated/pandas.read_csv.html\n",
    "Bus = pd.read_csv(url, sep=\",\", names=['Commute Time'])"
   ]
  },
  {
   "cell_type": "code",
   "execution_count": 47,
   "metadata": {},
   "outputs": [
    {
     "data": {
      "text/html": [
       "<div>\n",
       "<table border=\"1\" class=\"dataframe\">\n",
       "  <thead>\n",
       "    <tr style=\"text-align: right;\">\n",
       "      <th></th>\n",
       "      <th>Commute Time</th>\n",
       "    </tr>\n",
       "  </thead>\n",
       "  <tbody>\n",
       "    <tr>\n",
       "      <th>0</th>\n",
       "      <td>31.622239</td>\n",
       "    </tr>\n",
       "    <tr>\n",
       "      <th>1</th>\n",
       "      <td>32.821376</td>\n",
       "    </tr>\n",
       "    <tr>\n",
       "      <th>2</th>\n",
       "      <td>30.229101</td>\n",
       "    </tr>\n",
       "    <tr>\n",
       "      <th>3</th>\n",
       "      <td>31.413766</td>\n",
       "    </tr>\n",
       "    <tr>\n",
       "      <th>4</th>\n",
       "      <td>39.010550</td>\n",
       "    </tr>\n",
       "  </tbody>\n",
       "</table>\n",
       "</div>"
      ],
      "text/plain": [
       "   Commute Time\n",
       "0     31.622239\n",
       "1     32.821376\n",
       "2     30.229101\n",
       "3     31.413766\n",
       "4     39.010550"
      ]
     },
     "execution_count": 47,
     "metadata": {},
     "output_type": "execute_result"
    }
   ],
   "source": [
    "Bus.head()"
   ]
  },
  {
   "cell_type": "code",
   "execution_count": 48,
   "metadata": {},
   "outputs": [
    {
     "name": "stdout",
     "output_type": "stream",
     "text": [
      "Mean: 34.4661616883 \n",
      "Standard Deviation: 7.13728013375 \n",
      "N 100\n"
     ]
    }
   ],
   "source": [
    "m = Bus['Commute Time'].mean()\n",
    "std = Bus['Commute Time'].std()\n",
    "N = len(Bus)\n",
    "print (\"Mean:\", m, \"\\nStandard Deviation:\", std, \"\\nN\", N)"
   ]
  },
  {
   "cell_type": "code",
   "execution_count": 49,
   "metadata": {},
   "outputs": [],
   "source": [
    "# Population Mean and Standard Deviation statement\n",
    "MeanP = 36\n",
    "StDev = 6"
   ]
  },
  {
   "cell_type": "code",
   "execution_count": 50,
   "metadata": {},
   "outputs": [
    {
     "name": "stdout",
     "output_type": "stream",
     "text": [
      "Z-test result: 2.55639718617\n"
     ]
    }
   ],
   "source": [
    "# Calculate Z-score\n",
    "Num = MeanP-m\n",
    "Den = StDev/np.sqrt(N)\n",
    "Z = Num/Den\n",
    "print('Z-test result:', Z)"
   ]
  },
  {
   "cell_type": "markdown",
   "metadata": {},
   "source": [
    "### Result interpretation:\n",
    "Z test results shows that 2.556 is larger than 2; as I originally chose 0.05 as the significance level which corresponds to 2 sigma. Therefore, the null hypothesis is rejected. In further, it means this new bus route is possibly relatively efficient and shoule possibly be implemented soon."
   ]
  },
  {
   "cell_type": "code",
   "execution_count": null,
   "metadata": {},
   "outputs": [],
   "source": []
  }
 ],
 "metadata": {
  "kernelspec": {
   "display_name": "PUI2016_Python3",
   "language": "python",
   "name": "pui2016_python3"
  },
  "language_info": {
   "codemirror_mode": {
    "name": "ipython",
    "version": 3
   },
   "file_extension": ".py",
   "mimetype": "text/x-python",
   "name": "python",
   "nbconvert_exporter": "python",
   "pygments_lexer": "ipython3",
   "version": "3.5.4"
  }
 },
 "nbformat": 4,
 "nbformat_minor": 2
}
